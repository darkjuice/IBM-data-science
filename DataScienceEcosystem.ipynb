{
  "nbformat": 4,
  "nbformat_minor": 0,
  "metadata": {
    "colab": {
      "provenance": []
    },
    "kernelspec": {
      "name": "python3",
      "display_name": "Python 3"
    },
    "language_info": {
      "name": "python"
    }
  },
  "cells": [
    {
      "cell_type": "markdown",
      "source": [
        "# Data Science Tools and Ecosystem\n"
      ],
      "metadata": {
        "id": "-PUMhKwkxEq-"
      }
    },
    {
      "cell_type": "markdown",
      "source": [
        "#In this notebook, Data Science Tools and Ecosystem are summarized."
      ],
      "metadata": {
        "id": "dtaxnSY4xYzM"
      }
    },
    {
      "cell_type": "markdown",
      "source": [
        "#Some of the popular languages that Data Scientists use are:\n",
        "\n"
      ],
      "metadata": {
        "id": "Z2ghVskVxcZs"
      }
    },
    {
      "cell_type": "markdown",
      "source": [
        "\n",
        "1. python\n",
        "2. sql\n",
        "3. R"
      ],
      "metadata": {
        "id": "5Pvo-aY6x3iG"
      }
    },
    {
      "cell_type": "markdown",
      "source": [
        "# Some of the commonly used libraries used by Data Scientists include:"
      ],
      "metadata": {
        "id": "9ghQEPcNyNeD"
      }
    },
    {
      "cell_type": "markdown",
      "source": [
        "\n",
        "1. pandas\n",
        "2. Numpy\n",
        "3. keras\n"
      ],
      "metadata": {
        "id": "gna5xo63ypvj"
      }
    },
    {
      "cell_type": "markdown",
      "source": [
        "|Data Science Tools|\n",
        "|--------------------|\n",
        "|RStudio|\n",
        "|Apache Spark|\n",
        "|TensorFlow|"
      ],
      "metadata": {
        "id": "Ac-iMPOFypiv"
      }
    },
    {
      "cell_type": "markdown",
      "source": [
        "### Below are a few examples of evaluating arithmetic expressions in Python"
      ],
      "metadata": {
        "id": "wVoQwSApz3sN"
      }
    },
    {
      "cell_type": "code",
      "source": [
        "#This a simple arithmetic expression to mutiply then add integers\n",
        "(3*4)+5"
      ],
      "metadata": {
        "colab": {
          "base_uri": "https://localhost:8080/"
        },
        "id": "RVktGwkUz8ir",
        "outputId": "4132bb26-fd80-4655-b0de-4f75545c7a95"
      },
      "execution_count": 2,
      "outputs": [
        {
          "output_type": "execute_result",
          "data": {
            "text/plain": [
              "17"
            ]
          },
          "metadata": {},
          "execution_count": 2
        }
      ]
    },
    {
      "cell_type": "code",
      "source": [
        "#This will convert 200 minutes to hours by diving by 60\n",
        "hours = 200 // 60\n",
        "minutes = 200 % 60\n",
        "print(\"200 minutes equals to %d hourse %d minutes\" %(hours,minutes))"
      ],
      "metadata": {
        "colab": {
          "base_uri": "https://localhost:8080/"
        },
        "id": "oPYiB3VE0TCd",
        "outputId": "2900b4ce-998d-4bb7-a36e-9c931680948e"
      },
      "execution_count": 7,
      "outputs": [
        {
          "output_type": "stream",
          "name": "stdout",
          "text": [
            "200 minutes equals to 3 hourse 20 minutes\n"
          ]
        }
      ]
    },
    {
      "cell_type": "markdown",
      "source": [
        "Objectives:"
      ],
      "metadata": {
        "id": "GKt5H25c1VHn"
      }
    },
    {
      "cell_type": "markdown",
      "source": [
        "- List popular languages for Data Science\n",
        "- Some of the commonly used libraries used by Data Scientists\n",
        "- simple arithmetic expression"
      ],
      "metadata": {
        "id": "XRFf03Sw1bn-"
      }
    },
    {
      "cell_type": "markdown",
      "source": [
        "## Author"
      ],
      "metadata": {
        "id": "jR8TKiH26JaL"
      }
    },
    {
      "cell_type": "markdown",
      "source": [
        "Bonan Yin"
      ],
      "metadata": {
        "id": "o_JbyXuU6Ou5"
      }
    }
  ]
}